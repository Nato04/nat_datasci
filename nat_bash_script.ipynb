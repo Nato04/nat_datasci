{
 "cells": [
  {
   "cell_type": "code",
   "execution_count": null,
   "id": "342975e1-f7b0-4a86-8834-c304d263e5a9",
   "metadata": {},
   "outputs": [],
   "source": [
    "#Bash Script for Hello World"
   ]
  },
  {
   "cell_type": "code",
   "execution_count": 2,
   "id": "b29bed5c-871c-4230-89c3-f15b4a198230",
   "metadata": {
    "tags": []
   },
   "outputs": [
    {
     "name": "stdout",
     "output_type": "stream",
     "text": [
      "Hello World\n"
     ]
    }
   ],
   "source": [
    "!echo \"Hello World\""
   ]
  }
 ],
 "metadata": {
  "kernelspec": {
   "display_name": "Python 3 (ipykernel)",
   "language": "python",
   "name": "python3"
  },
  "language_info": {
   "codemirror_mode": {
    "name": "ipython",
    "version": 3
   },
   "file_extension": ".py",
   "mimetype": "text/x-python",
   "name": "python",
   "nbconvert_exporter": "python",
   "pygments_lexer": "ipython3",
   "version": "3.11.4"
  }
 },
 "nbformat": 4,
 "nbformat_minor": 5
}
